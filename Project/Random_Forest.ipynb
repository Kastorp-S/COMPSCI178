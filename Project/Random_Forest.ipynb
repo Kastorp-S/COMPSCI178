{
 "cells": [
  {
   "cell_type": "code",
   "execution_count": 25,
   "id": "4563c502",
   "metadata": {},
   "outputs": [],
   "source": [
    "from __future__ import division # For python 2.*\n",
    "\n",
    "import numpy as np\n",
    "import matplotlib.pyplot as plt\n",
    "import mltools as ml\n",
    "from sklearn import *\n",
    "from sklearn.metrics import roc_curve, auc\n",
    "\n",
    "np.random.seed(0)\n",
    "%matplotlib inline\n",
    "\n",
    "X = np.genfromtxt('uci-cs178-f21/X_train.txt', delimiter=',')\n",
    "Y = np.genfromtxt('uci-cs178-f21/Y_train.txt', delimiter=',')\n",
    "\n",
    "X,Y = ml.shuffleData(X,Y)\n",
    "# Fetureset1_X = X\n",
    "\n",
    "# X = X[:,0:41]\n",
    "Xtr, Xva, Ytr, Yva = ml.splitData(X, Y, 0.80)\n",
    "\n",
    "Xte = np.genfromtxt('uci-cs178-f21/X_test.txt', delimiter=',')\n",
    "# Xte = Xte[:,:41]\n",
    "\n",
    "Xtr, param = ml.transforms.rescale(Xtr)\n",
    "Xva, _ = ml.transforms.rescale(Xva,param)\n",
    "Xte, _ = ml.transforms.rescale(Xte,param)"
   ]
  },
  {
   "cell_type": "code",
   "execution_count": 26,
   "id": "0167eef3",
   "metadata": {},
   "outputs": [
    {
     "name": "stdout",
     "output_type": "stream",
     "text": [
      "(7422, 107)\n",
      "(5938, 107)\n",
      "(1485, 107)\n"
     ]
    }
   ],
   "source": [
    "print(Xte.shape)\n",
    "print(Xtr.shape)\n",
    "print(Xva.shape)"
   ]
  },
  {
   "cell_type": "code",
   "execution_count": 16,
   "id": "07ccae54",
   "metadata": {},
   "outputs": [],
   "source": [
    "# print(X.shape)\n",
    "# print(Y.shape)\n",
    "# print(Xte.shape)\n",
    "\n",
    "# Fetureset1_X = X[:,0:41]\n",
    "# print(Fetureset1_X.shape)\n",
    "# Fetureset2_X = X[:,41:69]\n",
    "# print(Fetureset2_X.shape)\n",
    "# Fetureset3_X = X[:,69:107]\n",
    "# print(Fetureset3_X.shape)\n",
    "\n",
    "# print(Fetureset1_X[0])\n",
    "# print(Fetureset2_X[0])\n",
    "# print(Fetureset3_X[0])\n",
    "\n",
    "# # for i in X[:1]:\n",
    "# #     for j in i :\n",
    "# #         x += 1\n",
    "# #         print(x,j)\n"
   ]
  },
  {
   "cell_type": "code",
   "execution_count": 33,
   "id": "3912716e",
   "metadata": {},
   "outputs": [
    {
     "name": "stdout",
     "output_type": "stream",
     "text": [
      "0.6891955487751786\n"
     ]
    }
   ],
   "source": [
    "nBag = 100\n",
    "classifiers2 = [ None ] * nBag\n",
    "\n",
    "mt,nt = Xte.shape\n",
    "\n",
    "Ye = np.zeros((mt,2))\n",
    "auc_list = []\n",
    "\n",
    "for i in range(nBag):\n",
    "    Xi,Yi = ml.bootstrapData(Xtr,Ytr,mt) \n",
    "    classifiers2[i] = ml.dtree.treeClassify(Xi, Yi, maxDepth = 25 , minLeaf = 4, minParent = 512, nFeatures = 41)\n",
    "    #Train a model on data Xi,Yi\n",
    "    auc_list.append(classifiers2[i].auc(Xva,Yva))\n",
    "    #Train a model on data Xi,Yi\n",
    "    Ye += classifiers2[i].predictSoft(Xte)\n",
    "learner = Ye / 25\n",
    "print(np.mean(auc_list))"
   ]
  },
  {
   "cell_type": "code",
   "execution_count": 32,
   "id": "44c1975a",
   "metadata": {},
   "outputs": [
    {
     "name": "stdout",
     "output_type": "stream",
     "text": [
      "[[2.52608891 1.47391109]\n",
      " [3.14210265 0.85789735]\n",
      " [1.85569989 2.14430011]\n",
      " ...\n",
      " [2.07454872 1.92545128]\n",
      " [0.33362584 3.66637416]\n",
      " [2.04357096 1.95642904]]\n"
     ]
    }
   ],
   "source": [
    "print(learner)"
   ]
  },
  {
   "cell_type": "code",
   "execution_count": 10,
   "id": "55241f2f",
   "metadata": {},
   "outputs": [],
   "source": [
    "from sklearn.ensemble import RandomForestClassifier\n",
    "from sklearn.metrics import roc_curve, auc\n",
    "from sklearn import tree\n",
    "from sklearn import gaussian_process\n",
    "from sklearn import linear_model\n"
   ]
  },
  {
   "cell_type": "code",
   "execution_count": 13,
   "id": "ddfcc505",
   "metadata": {},
   "outputs": [
    {
     "name": "stdout",
     "output_type": "stream",
     "text": [
      "max_features = 41\n",
      "Training: 0.7811161581178616\n",
      "Validation: 0.7422487229349277\n"
     ]
    }
   ],
   "source": [
    "rf = RandomForestClassifier(n_estimators= 100, min_samples_split = 512,max_features = 41,min_samples_leaf = 4, bootstrap=True, max_depth=25)\n",
    "rf.fit(Xtr, Ytr)\n",
    "\n",
    "pred_soft = rf.predict_proba(Xtr)\n",
    "false_positive_rate, true_positive_rate, thresholds = roc_curve(Ytr, pred_soft[:,1])\n",
    "roc_auc_tr = auc(false_positive_rate, true_positive_rate)\n",
    "\n",
    "pred_soft = rf.predict_proba(Xva)\n",
    "false_positive_rate, true_positive_rate, thresholds = roc_curve(Yva, pred_soft[:,1])\n",
    "roc_auc_va = auc(false_positive_rate, true_positive_rate)\n",
    "\n",
    "\n",
    "print (\"max_features = \" + str(41))\n",
    "print (\"Training: \" + str(roc_auc_tr))\n",
    "print (\"Validation: \" + str(roc_auc_va))\n"
   ]
  },
  {
   "cell_type": "code",
   "execution_count": 34,
   "id": "596baeaf",
   "metadata": {},
   "outputs": [
    {
     "data": {
      "text/plain": [
       "array([0.4795793 , 0.48953922, 0.50037116, ..., 0.27748404, 0.52129013,\n",
       "       0.68978669])"
      ]
     },
     "execution_count": 34,
     "metadata": {},
     "output_type": "execute_result"
    }
   ],
   "source": [
    "pred_soft[:,1]"
   ]
  },
  {
   "cell_type": "code",
   "execution_count": null,
   "id": "0c5aff52",
   "metadata": {
    "scrolled": false
   },
   "outputs": [],
   "source": [
    "max = 0\n",
    "currk = 0\n",
    "\n",
    "for mf in range(10,40):\n",
    "    rf = RandomForestClassifier(n_estimators= 50, max_features=mf, bootstrap=True, max_depth=10)\n",
    "    rf.fit(Xtr, Ytr)\n",
    "    \n",
    "    pred_soft = rf.predict_proba(Xtr)\n",
    "    false_positive_rate, true_positive_rate, thresholds = roc_curve(Ytr, pred_soft[:,1])\n",
    "    roc_auc_tr = auc(false_positive_rate, true_positive_rate)\n",
    "    \n",
    "    pred_soft = rf.predict_proba(Xva)\n",
    "    false_positive_rate, true_positive_rate, thresholds = roc_curve(Yva, pred_soft[:,1])\n",
    "    roc_auc_va = auc(false_positive_rate, true_positive_rate)\n",
    "    \n",
    "    if roc_auc_va > max:\n",
    "        max = roc_auc_va\n",
    "        currk = mf\n",
    "    \n",
    "    print (\"maxF = \" + str(mf))\n",
    "    print (\"Training: \" + str(roc_auc_tr))\n",
    "    print (\"Validation: \" + str(roc_auc_va))\n",
    "    \n",
    "print (max, currk)"
   ]
  },
  {
   "cell_type": "code",
   "execution_count": null,
   "id": "0957f85b",
   "metadata": {},
   "outputs": [],
   "source": [
    "max = 0\n",
    "currk = 0\n",
    "\n",
    "for mf in range(10,40):\n",
    "    rf = RandomForestClassifier(n_estimators=100, max_features=mf, bootstrap=True, max_depth=10)\n",
    "    rf.fit(Xtr, Ytr)\n",
    "    \n",
    "    pred_soft = rf.predict_proba(Xtr)\n",
    "    false_positive_rate, true_positive_rate, thresholds = roc_curve(Ytr, pred_soft[:,1])\n",
    "    roc_auc_tr = auc(false_positive_rate, true_positive_rate)\n",
    "    \n",
    "    pred_soft = rf.predict_proba(Xva)\n",
    "    false_positive_rate, true_positive_rate, thresholds = roc_curve(Yva, pred_soft[:,1])\n",
    "    roc_auc_va = auc(false_positive_rate, true_positive_rate)\n",
    "    \n",
    "    if roc_auc_va > max:\n",
    "        max = roc_auc_va\n",
    "        currk = mf\n",
    "    \n",
    "#     print (\"maxF = \" + str(mf))\n",
    "#     print (\"Training: \" + str(roc_auc_tr))\n",
    "#     print (\"Validation: \" + str(roc_auc_va))\n",
    "    \n",
    "print (max, mf)"
   ]
  },
  {
   "cell_type": "code",
   "execution_count": null,
   "id": "e40444c4",
   "metadata": {},
   "outputs": [],
   "source": [
    "max = 0\n",
    "currk = 0\n",
    "depths=[10,20,30,40,50,60,70]\n",
    "for d in depths:\n",
    "    rf = RandomForestClassifier(n_estimators=100, max_features=39, bootstrap=True, max_depth=d)\n",
    "    rf.fit(Xtr, Ytr)\n",
    "    \n",
    "    pred_soft = rf.predict_proba(Xtr)\n",
    "    false_positive_rate, true_positive_rate, thresholds = roc_curve(Ytr, pred_soft[:,1])\n",
    "    roc_auc_tr = auc(false_positive_rate, true_positive_rate)\n",
    "    \n",
    "    pred_soft = rf.predict_proba(Xva)\n",
    "    false_positive_rate, true_positive_rate, thresholds = roc_curve(Yva, pred_soft[:,1])\n",
    "    roc_auc_va = auc(false_positive_rate, true_positive_rate)\n",
    "    \n",
    "    if roc_auc_va > max:\n",
    "        max = roc_auc_va\n",
    "        currk = d\n",
    "    \n",
    "    print (\"depth = \" + str(d))\n",
    "    print (\"Training: \" + str(roc_auc_tr))\n",
    "    print (\"Validation: \" + str(roc_auc_va))\n",
    "    \n",
    "print (max, currk)"
   ]
  },
  {
   "cell_type": "code",
   "execution_count": null,
   "id": "3722aaa3",
   "metadata": {},
   "outputs": [],
   "source": [
    "max = 0\n",
    "currk = 0\n",
    "nbag=[(50,28),(100,39)]\n",
    "for b,mf in nbag:\n",
    "    rf = RandomForestClassifier(n_estimators= 50, max_features= 39, bootstrap=True, max_depth= 10)\n",
    "    rf.fit(Xtr, Ytr)\n",
    "    \n",
    "    pred_soft = rf.predict_proba(Xtr)\n",
    "    false_positive_rate, true_positive_rate, thresholds = roc_curve(Ytr, pred_soft[:,1])\n",
    "    roc_auc_tr = auc(false_positive_rate, true_positive_rate)\n",
    "    \n",
    "    pred_soft = rf.predict_proba(Xva)\n",
    "    false_positive_rate, true_positive_rate, thresholds = roc_curve(Yva, pred_soft[:,1])\n",
    "    roc_auc_va = auc(false_positive_rate, true_positive_rate)\n",
    "    \n",
    "    if roc_auc_va > max:\n",
    "        max = roc_auc_va\n",
    "        currk = d\n",
    "    \n",
    "    print (\"nbag = \" + str(b))\n",
    "    print (\"mf = \" + str(mf))\n",
    "    print (\"Training: \" + str(roc_auc_tr))\n",
    "    print (\"Validation: \" + str(roc_auc_va))\n",
    "    \n",
    "print (max, currk)"
   ]
  },
  {
   "cell_type": "code",
   "execution_count": null,
   "id": "4754c1a5",
   "metadata": {},
   "outputs": [],
   "source": []
  }
 ],
 "metadata": {
  "kernelspec": {
   "display_name": "Python 3",
   "language": "python",
   "name": "python3"
  },
  "language_info": {
   "codemirror_mode": {
    "name": "ipython",
    "version": 3
   },
   "file_extension": ".py",
   "mimetype": "text/x-python",
   "name": "python",
   "nbconvert_exporter": "python",
   "pygments_lexer": "ipython3",
   "version": "3.8.8"
  }
 },
 "nbformat": 4,
 "nbformat_minor": 5
}

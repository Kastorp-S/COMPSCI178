{
 "cells": [
  {
   "cell_type": "markdown",
   "id": "e3f790f4",
   "metadata": {},
   "source": [
    "# Final Project"
   ]
  },
  {
   "cell_type": "code",
   "execution_count": 1,
   "id": "f600d000",
   "metadata": {},
   "outputs": [
    {
     "name": "stdout",
     "output_type": "stream",
     "text": [
      "Shape of X: (7423, 107), Xte: (7422, 107), Y: (7423,)\n"
     ]
    }
   ],
   "source": [
    "# Import all required libraries\n",
    "from __future__ import division # For python 2.*\n",
    "\n",
    "import numpy as np\n",
    "import matplotlib.pyplot as plt\n",
    "import mltools as ml\n",
    "from sklearn import *\n",
    "from sklearn.metrics import roc_curve, auc\n",
    "\n",
    "np.random.seed(0)\n",
    "%matplotlib inline\n",
    "# Data Loading\n",
    "X = np.genfromtxt('uci-cs178-f21/X_train.txt', delimiter=',')\n",
    "Y = np.genfromtxt('uci-cs178-f21/Y_train.txt', delimiter=None)\n",
    "\n",
    "# The test data\n",
    "Xte = np.genfromtxt('uci-cs178-f21/X_test.txt', delimiter=',')\n",
    "\n",
    "print(\"Shape of X: {}, Xte: {}, Y: {}\".format(X.shape, Xte.shape, Y.shape))\n",
    "\n",
    "Xtr,Xva,Ytr,Yva = ml.splitData(X,Y,0.5)"
   ]
  },
  {
   "cell_type": "markdown",
   "id": "bd6ba449",
   "metadata": {},
   "source": [
    "## kNN"
   ]
  },
  {
   "cell_type": "code",
   "execution_count": 2,
   "id": "d2889424",
   "metadata": {},
   "outputs": [
    {
     "name": "stdout",
     "output_type": "stream",
     "text": [
      "K = 1\n",
      "Training AUC:  1.0\n",
      "Validation AUC:  0.522992028539224\n",
      "K = 5\n",
      "Training AUC:  0.7668977610553699\n",
      "Validation AUC:  0.5408078366663955\n",
      "K = 10\n",
      "Training AUC:  0.6970892558528429\n",
      "Validation AUC:  0.5526937088208976\n",
      "K = 20\n",
      "Training AUC:  0.6608146948160534\n",
      "Validation AUC:  0.559986404359901\n",
      "K = 50\n",
      "Training AUC:  0.6191279960981049\n",
      "Validation AUC:  0.5740163496287345\n",
      "K = 100\n",
      "Training AUC:  0.6054523469435155\n",
      "Validation AUC:  0.5781037568123453\n",
      "K = 200\n",
      "Training AUC:  0.5966256154775177\n",
      "Validation AUC:  0.5750791626480123\n",
      "K = 300\n",
      "Training AUC:  0.5831237225938313\n",
      "Validation AUC:  0.5687782516239237\n",
      "K = 500\n",
      "Training AUC:  0.5691075285674472\n",
      "Validation AUC:  0.5626514984254622\n"
     ]
    }
   ],
   "source": [
    "K = [1, 5, 10, 20, 50, 100, 200, 300, 500]\n",
    "for k in K:\n",
    "    knn = neighbors.KNeighborsClassifier(n_neighbors=k, n_jobs=-1)\n",
    "    knn.fit(Xtr, Ytr)\n",
    "    \n",
    "    knn_tr_pred = knn.predict_proba(Xtr)\n",
    "    knn_va_pred = knn.predict_proba(Xva)\n",
    "    \n",
    "    fpr_tr, tpr_tr, thresholds = roc_curve(Ytr, knn_tr_pred[:,1])\n",
    "    knn_tr_auc = metrics.auc(fpr_tr, tpr_tr)\n",
    "    \n",
    "    fpr_va, tpr_va, thresholds = roc_curve(Yva, knn_va_pred[:,1])\n",
    "    knn_va_auc = metrics.auc(fpr_va, tpr_va)\n",
    "    \n",
    "    print (\"K =\", str(k))\n",
    "    print (\"Training AUC: \", str(knn_tr_auc))\n",
    "    print (\"Validation AUC: \", str(knn_va_auc))"
   ]
  },
  {
   "cell_type": "code",
   "execution_count": 3,
   "id": "cb9b5324",
   "metadata": {},
   "outputs": [
    {
     "name": "stdout",
     "output_type": "stream",
     "text": [
      "K =  1\n",
      "1.0\n",
      "0.522992028539224\n",
      "K =  5\n",
      "0.7668977610553698\n",
      "0.5408078366663955\n",
      "K =  10\n",
      "0.6970892558528428\n",
      "0.5526937088208979\n",
      "K =  20\n",
      "0.6608146948160535\n",
      "0.559986404359901\n",
      "K =  50\n",
      "0.6191279960981048\n",
      "0.5740163496287345\n",
      "K =  100\n",
      "0.6054523469435155\n",
      "0.5781037568123453\n",
      "K =  200\n",
      "0.5966256154775176\n",
      "0.5750791626480124\n",
      "K =  300\n",
      "0.5831237225938313\n",
      "0.5687782516239236\n",
      "K =  500\n",
      "0.5691075285674471\n",
      "0.5626514984254621\n"
     ]
    }
   ],
   "source": [
    "K = [1, 5, 10, 20, 50, 100, 200, 300, 500]\n",
    "\n",
    "for k in K:\n",
    "    knn = ml.knn.knnClassify(Xtr, Ytr, K=k)\n",
    "    \n",
    "    print(\"K = \", str(k))\n",
    "    print(knn.auc(Xtr, Ytr))\n",
    "    print(knn.auc(Xva, Yva))"
   ]
  },
  {
   "cell_type": "code",
   "execution_count": 4,
   "id": "bade61f3",
   "metadata": {},
   "outputs": [
    {
     "name": "stdout",
     "output_type": "stream",
     "text": [
      "[[0.526 0.474]\n",
      " [0.578 0.422]\n",
      " [0.402 0.598]\n",
      " ...\n",
      " [0.42  0.58 ]\n",
      " [0.526 0.474]\n",
      " [0.496 0.504]]\n"
     ]
    }
   ],
   "source": [
    "# Write into the file\n",
    "\n",
    "Yhat = knn.predictSoft(Xte)\n",
    "print(Yhat)\n",
    "#Yte = np.vstack((np.arange(len(Yhat)), Yhat[:,1])).T\n",
    "#np.savetxt('f1_knn.txt',Yte,'%d, %.2f',header='Id,Predicted',delimiter=',')"
   ]
  },
  {
   "cell_type": "markdown",
   "id": "5b1fbad7",
   "metadata": {},
   "source": [
    "# Neural Network"
   ]
  },
  {
   "cell_type": "code",
   "execution_count": null,
   "id": "779289cc",
   "metadata": {},
   "outputs": [],
   "source": [
    "X = np.genfromtxt('uci-cs178-f21/X_train.txt', delimiter=',')\n",
    "Y = np.genfromtxt('uci-cs178-f21/Y_train.txt', delimiter=None)\n",
    "\n",
    "X,Y = ml.shuffleData(X,Y)\n",
    "Xtr, Xva, Ytr, Yva = ml.splitData(X, Y, 0.80)\n",
    "\n",
    "Xte = np.genfromtxt('uci-cs178-f21/X_test.txt', delimiter=',')\n",
    "\n",
    "Xtr, param = ml.transforms.rescale(Xtr)\n",
    "Xva, _ = ml.transforms.rescale(Xva,param)\n",
    "Xte, _ = ml.transforms.rescale(Xte,param)"
   ]
  },
  {
   "cell_type": "code",
   "execution_count": null,
   "id": "dbb951a8",
   "metadata": {},
   "outputs": [],
   "source": []
  }
 ],
 "metadata": {
  "kernelspec": {
   "display_name": "Python 3",
   "language": "python",
   "name": "python3"
  },
  "language_info": {
   "codemirror_mode": {
    "name": "ipython",
    "version": 3
   },
   "file_extension": ".py",
   "mimetype": "text/x-python",
   "name": "python",
   "nbconvert_exporter": "python",
   "pygments_lexer": "ipython3",
   "version": "3.8.8"
  }
 },
 "nbformat": 4,
 "nbformat_minor": 5
}

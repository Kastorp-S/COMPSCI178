{
 "cells": [
  {
   "cell_type": "markdown",
   "id": "b3a96287",
   "metadata": {},
   "source": [
    "# Neural Network"
   ]
  },
  {
   "cell_type": "code",
   "execution_count": 1,
   "id": "3e0e3e3d",
   "metadata": {},
   "outputs": [],
   "source": [
    "from __future__ import division # For python 2.*\n",
    "\n",
    "import numpy as np\n",
    "import matplotlib.pyplot as plt\n",
    "import mltools as ml\n",
    "from sklearn import *\n",
    "from sklearn.metrics import roc_curve, auc\n",
    "\n",
    "np.random.seed(0)\n",
    "%matplotlib inline"
   ]
  },
  {
   "cell_type": "code",
   "execution_count": 2,
   "id": "451b0e83",
   "metadata": {},
   "outputs": [],
   "source": [
    "X = np.genfromtxt('uci-cs178-f21/X_train.txt', delimiter=',')\n",
    "Y = np.genfromtxt('uci-cs178-f21/Y_train.txt', delimiter=None)\n",
    "\n",
    "X,Y = ml.shuffleData(X,Y)\n",
    "Xtr, Xva, Ytr, Yva = ml.splitData(X, Y, 0.80)\n",
    "\n",
    "Xte = np.genfromtxt('uci-cs178-f21/X_test.txt', delimiter=',')\n",
    "\n",
    "Xtr, param = ml.transforms.rescale(Xtr)\n",
    "Xva, _ = ml.transforms.rescale(Xva,param)\n",
    "Xte, _ = ml.transforms.rescale(Xte,param)"
   ]
  },
  {
   "cell_type": "code",
   "execution_count": 3,
   "id": "949c0764",
   "metadata": {},
   "outputs": [
    {
     "name": "stderr",
     "output_type": "stream",
     "text": [
      "/Users/yuhaos/opt/anaconda3/lib/python3.8/site-packages/sklearn/neural_network/_multilayer_perceptron.py:549: ConvergenceWarning: lbfgs failed to converge (status=1):\n",
      "STOP: TOTAL NO. of ITERATIONS REACHED LIMIT.\n",
      "\n",
      "Increase the number of iterations (max_iter) or scale the data as shown in:\n",
      "    https://scikit-learn.org/stable/modules/preprocessing.html\n",
      "  self.n_iter_ = _check_optimize_result(\"lbfgs\", opt_res, self.max_iter)\n"
     ]
    },
    {
     "data": {
      "text/plain": [
       "MLPClassifier(hidden_layer_sizes=2, max_iter=256, random_state=1,\n",
       "              solver='lbfgs')"
      ]
     },
     "execution_count": 3,
     "metadata": {},
     "output_type": "execute_result"
    }
   ],
   "source": [
    "from sklearn.neural_network import MLPClassifier\n",
    "nnet = MLPClassifier(solver='lbfgs', hidden_layer_sizes=2, max_iter=256, random_state=1)\n",
    "nnet.fit(Xtr, Ytr)"
   ]
  },
  {
   "cell_type": "code",
   "execution_count": 4,
   "id": "0d48f526",
   "metadata": {},
   "outputs": [
    {
     "name": "stdout",
     "output_type": "stream",
     "text": [
      "Training:  0.7341658908950222\n",
      "Validation:  0.6876823082951181\n"
     ]
    }
   ],
   "source": [
    "pred_soft = nnet.predict_proba(Xtr)\n",
    "false_positive_rate, true_positive_rate, thresholds = roc_curve(Ytr, pred_soft[:,1])\n",
    "roc_auc_tr = auc(false_positive_rate, true_positive_rate)\n",
    "\n",
    "pred_soft = nnet.predict_proba(Xva)\n",
    "false_positive_rate, true_positive_rate, thresholds = roc_curve(Yva, pred_soft[:,1])\n",
    "roc_auc_va = auc(false_positive_rate, true_positive_rate)\n",
    "\n",
    "print(\"Training: \", str(roc_auc_tr))\n",
    "print (\"Validation: \", str(roc_auc_va))"
   ]
  },
  {
   "cell_type": "code",
   "execution_count": 5,
   "id": "493b32b7",
   "metadata": {},
   "outputs": [
    {
     "name": "stderr",
     "output_type": "stream",
     "text": [
      "/Users/yuhaos/opt/anaconda3/lib/python3.8/site-packages/sklearn/neural_network/_multilayer_perceptron.py:549: ConvergenceWarning: lbfgs failed to converge (status=1):\n",
      "STOP: TOTAL NO. of ITERATIONS REACHED LIMIT.\n",
      "\n",
      "Increase the number of iterations (max_iter) or scale the data as shown in:\n",
      "    https://scikit-learn.org/stable/modules/preprocessing.html\n",
      "  self.n_iter_ = _check_optimize_result(\"lbfgs\", opt_res, self.max_iter)\n"
     ]
    },
    {
     "name": "stdout",
     "output_type": "stream",
     "text": [
      "Layers= 2\n",
      "Training:  0.720821370565834\n",
      "Validation:  0.6639504847042433\n"
     ]
    },
    {
     "name": "stderr",
     "output_type": "stream",
     "text": [
      "/Users/yuhaos/opt/anaconda3/lib/python3.8/site-packages/sklearn/neural_network/_multilayer_perceptron.py:549: ConvergenceWarning: lbfgs failed to converge (status=1):\n",
      "STOP: TOTAL NO. of ITERATIONS REACHED LIMIT.\n",
      "\n",
      "Increase the number of iterations (max_iter) or scale the data as shown in:\n",
      "    https://scikit-learn.org/stable/modules/preprocessing.html\n",
      "  self.n_iter_ = _check_optimize_result(\"lbfgs\", opt_res, self.max_iter)\n"
     ]
    },
    {
     "name": "stdout",
     "output_type": "stream",
     "text": [
      "Layers= 3\n",
      "Training:  0.7109784026308729\n",
      "Validation:  0.6136306742323097\n"
     ]
    },
    {
     "name": "stderr",
     "output_type": "stream",
     "text": [
      "/Users/yuhaos/opt/anaconda3/lib/python3.8/site-packages/sklearn/neural_network/_multilayer_perceptron.py:549: ConvergenceWarning: lbfgs failed to converge (status=1):\n",
      "STOP: TOTAL NO. of ITERATIONS REACHED LIMIT.\n",
      "\n",
      "Increase the number of iterations (max_iter) or scale the data as shown in:\n",
      "    https://scikit-learn.org/stable/modules/preprocessing.html\n",
      "  self.n_iter_ = _check_optimize_result(\"lbfgs\", opt_res, self.max_iter)\n"
     ]
    },
    {
     "name": "stdout",
     "output_type": "stream",
     "text": [
      "Layers= 4\n",
      "Training:  0.7660419081202727\n",
      "Validation:  0.672568859929181\n"
     ]
    },
    {
     "name": "stderr",
     "output_type": "stream",
     "text": [
      "/Users/yuhaos/opt/anaconda3/lib/python3.8/site-packages/sklearn/neural_network/_multilayer_perceptron.py:549: ConvergenceWarning: lbfgs failed to converge (status=1):\n",
      "STOP: TOTAL NO. of ITERATIONS REACHED LIMIT.\n",
      "\n",
      "Increase the number of iterations (max_iter) or scale the data as shown in:\n",
      "    https://scikit-learn.org/stable/modules/preprocessing.html\n",
      "  self.n_iter_ = _check_optimize_result(\"lbfgs\", opt_res, self.max_iter)\n"
     ]
    },
    {
     "name": "stdout",
     "output_type": "stream",
     "text": [
      "Layers= 5\n",
      "Training:  0.7784284993825028\n",
      "Validation:  0.6534999564636907\n"
     ]
    },
    {
     "name": "stderr",
     "output_type": "stream",
     "text": [
      "/Users/yuhaos/opt/anaconda3/lib/python3.8/site-packages/sklearn/neural_network/_multilayer_perceptron.py:549: ConvergenceWarning: lbfgs failed to converge (status=1):\n",
      "STOP: TOTAL NO. of ITERATIONS REACHED LIMIT.\n",
      "\n",
      "Increase the number of iterations (max_iter) or scale the data as shown in:\n",
      "    https://scikit-learn.org/stable/modules/preprocessing.html\n",
      "  self.n_iter_ = _check_optimize_result(\"lbfgs\", opt_res, self.max_iter)\n"
     ]
    },
    {
     "name": "stdout",
     "output_type": "stream",
     "text": [
      "Layers= 6\n",
      "Training:  0.7807627920064035\n",
      "Validation:  0.6569465809485111\n"
     ]
    },
    {
     "name": "stderr",
     "output_type": "stream",
     "text": [
      "/Users/yuhaos/opt/anaconda3/lib/python3.8/site-packages/sklearn/neural_network/_multilayer_perceptron.py:549: ConvergenceWarning: lbfgs failed to converge (status=1):\n",
      "STOP: TOTAL NO. of ITERATIONS REACHED LIMIT.\n",
      "\n",
      "Increase the number of iterations (max_iter) or scale the data as shown in:\n",
      "    https://scikit-learn.org/stable/modules/preprocessing.html\n",
      "  self.n_iter_ = _check_optimize_result(\"lbfgs\", opt_res, self.max_iter)\n"
     ]
    },
    {
     "name": "stdout",
     "output_type": "stream",
     "text": [
      "Layers= 7\n",
      "Training:  0.8012598418049867\n",
      "Validation:  0.6211234544610205\n"
     ]
    },
    {
     "name": "stderr",
     "output_type": "stream",
     "text": [
      "/Users/yuhaos/opt/anaconda3/lib/python3.8/site-packages/sklearn/neural_network/_multilayer_perceptron.py:549: ConvergenceWarning: lbfgs failed to converge (status=1):\n",
      "STOP: TOTAL NO. of ITERATIONS REACHED LIMIT.\n",
      "\n",
      "Increase the number of iterations (max_iter) or scale the data as shown in:\n",
      "    https://scikit-learn.org/stable/modules/preprocessing.html\n",
      "  self.n_iter_ = _check_optimize_result(\"lbfgs\", opt_res, self.max_iter)\n"
     ]
    },
    {
     "name": "stdout",
     "output_type": "stream",
     "text": [
      "Layers= 8\n",
      "Training:  0.8058730593653933\n",
      "Validation:  0.6386332138503512\n"
     ]
    },
    {
     "name": "stderr",
     "output_type": "stream",
     "text": [
      "/Users/yuhaos/opt/anaconda3/lib/python3.8/site-packages/sklearn/neural_network/_multilayer_perceptron.py:549: ConvergenceWarning: lbfgs failed to converge (status=1):\n",
      "STOP: TOTAL NO. of ITERATIONS REACHED LIMIT.\n",
      "\n",
      "Increase the number of iterations (max_iter) or scale the data as shown in:\n",
      "    https://scikit-learn.org/stable/modules/preprocessing.html\n",
      "  self.n_iter_ = _check_optimize_result(\"lbfgs\", opt_res, self.max_iter)\n"
     ]
    },
    {
     "name": "stdout",
     "output_type": "stream",
     "text": [
      "Layers= 9\n",
      "Training:  0.8217902483660575\n",
      "Validation:  0.6336909357404075\n",
      "Layers= 10\n",
      "Training:  0.8226207636769817\n",
      "Validation:  0.6290915060660591\n",
      "Best # Layers:  4\n",
      "AUC:  0.672568859929181\n"
     ]
    },
    {
     "name": "stderr",
     "output_type": "stream",
     "text": [
      "/Users/yuhaos/opt/anaconda3/lib/python3.8/site-packages/sklearn/neural_network/_multilayer_perceptron.py:549: ConvergenceWarning: lbfgs failed to converge (status=1):\n",
      "STOP: TOTAL NO. of ITERATIONS REACHED LIMIT.\n",
      "\n",
      "Increase the number of iterations (max_iter) or scale the data as shown in:\n",
      "    https://scikit-learn.org/stable/modules/preprocessing.html\n",
      "  self.n_iter_ = _check_optimize_result(\"lbfgs\", opt_res, self.max_iter)\n"
     ]
    }
   ],
   "source": [
    "layers = [2,3,4,5,6,7,8,9,10]\n",
    "max = 0\n",
    "currL = 0\n",
    "for l in layers:\n",
    "    nnet = MLPClassifier(solver='lbfgs', hidden_layer_sizes=l, random_state=1)\n",
    "    nnet.fit(Xtr, Ytr)\n",
    "    \n",
    "    pred_soft = nnet.predict_proba(Xtr)\n",
    "    false_positive_rate, true_positive_rate, thresholds = roc_curve(Ytr, pred_soft[:,1])\n",
    "    roc_auc_tr = auc(false_positive_rate, true_positive_rate)\n",
    "\n",
    "    pred_soft = nnet.predict_proba(Xva)\n",
    "    false_positive_rate, true_positive_rate, thresholds = roc_curve(Yva, pred_soft[:,1])\n",
    "    roc_auc_va = auc(false_positive_rate, true_positive_rate)\n",
    "\n",
    "    if roc_auc_va > max:\n",
    "        max = roc_auc_va\n",
    "        currL = l\n",
    "    \n",
    "    print(\"Layers=\", str(l))\n",
    "    print(\"Training: \", str(roc_auc_tr))\n",
    "    print(\"Validation: \", str(roc_auc_va))\n",
    "\n",
    "print(\"Best # Layers: \", currL)\n",
    "print(\"AUC: \", max)"
   ]
  },
  {
   "cell_type": "code",
   "execution_count": null,
   "id": "85515df1",
   "metadata": {},
   "outputs": [],
   "source": []
  }
 ],
 "metadata": {
  "kernelspec": {
   "display_name": "Python 3",
   "language": "python",
   "name": "python3"
  },
  "language_info": {
   "codemirror_mode": {
    "name": "ipython",
    "version": 3
   },
   "file_extension": ".py",
   "mimetype": "text/x-python",
   "name": "python",
   "nbconvert_exporter": "python",
   "pygments_lexer": "ipython3",
   "version": "3.8.8"
  }
 },
 "nbformat": 4,
 "nbformat_minor": 5
}

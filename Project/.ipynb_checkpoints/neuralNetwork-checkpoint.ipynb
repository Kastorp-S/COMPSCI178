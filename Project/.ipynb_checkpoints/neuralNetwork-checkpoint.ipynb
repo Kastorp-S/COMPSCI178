{
 "cells": [
  {
   "cell_type": "markdown",
   "id": "cac8c19c",
   "metadata": {},
   "source": [
    "# Neural Network"
   ]
  },
  {
   "cell_type": "code",
   "execution_count": 1,
   "id": "eac91cb6",
   "metadata": {},
   "outputs": [],
   "source": [
    "from __future__ import division # For python 2.*\n",
    "\n",
    "import numpy as np\n",
    "import matplotlib.pyplot as plt\n",
    "import mltools as ml\n",
    "from sklearn import *\n",
    "from sklearn.metrics import roc_curve, auc\n",
    "\n",
    "np.random.seed(0)\n",
    "%matplotlib inline"
   ]
  },
  {
   "cell_type": "code",
   "execution_count": null,
   "id": "9b68ac9e",
   "metadata": {},
   "outputs": [],
   "source": [
    "X = np.genfromtxt('uci-cs178-f21/X_train.txt', delimiter=',')\n",
    "Y = np.genfromtxt('uci-cs178-f21/Y_train.txt', delimiter=None)\n",
    "\n",
    "X,Y = ml.shuffleData(X,Y)\n",
    "Xtr, Xva, Ytr, Yva = ml.splitData(X, Y, 0.80)\n",
    "\n",
    "Xte = np.genfromtxt('uci-cs178-f21/X_test.txt', delimiter=',')\n",
    "\n",
    "Xtr, param = ml.transforms.rescale(Xtr)\n",
    "Xva, _ = ml.transforms.rescale(Xva,param)\n",
    "Xte, _ = ml.transforms.rescale(Xte,param)"
   ]
  },
  {
   "cell_type": "code",
   "execution_count": null,
   "id": "6b75e280",
   "metadata": {},
   "outputs": [],
   "source": [
    "from sklearn.neural_network import MLPClassifier\n",
    "nnet = MLPClassifier(solver='lbfgs', hidden_layer_sizes=2, max_iter=256, random_state=1)\n",
    "nnet.fit(Xtr, Ytr)"
   ]
  }
 ],
 "metadata": {
  "kernelspec": {
   "display_name": "Python 3",
   "language": "python",
   "name": "python3"
  },
  "language_info": {
   "codemirror_mode": {
    "name": "ipython",
    "version": 3
   },
   "file_extension": ".py",
   "mimetype": "text/x-python",
   "name": "python",
   "nbconvert_exporter": "python",
   "pygments_lexer": "ipython3",
   "version": "3.8.8"
  }
 },
 "nbformat": 4,
 "nbformat_minor": 5
}

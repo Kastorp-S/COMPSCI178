{
 "cells": [
  {
   "cell_type": "markdown",
   "id": "e3f790f4",
   "metadata": {},
   "source": [
    "# Final Project"
   ]
  },
  {
   "cell_type": "code",
   "execution_count": 4,
   "id": "f600d000",
   "metadata": {},
   "outputs": [
    {
     "name": "stdout",
     "output_type": "stream",
     "text": [
      "Shape of X: (7423, 107), Xte: (7422, 107), Y: (7423,)\n"
     ]
    }
   ],
   "source": [
    "# Import all required libraries\n",
    "from __future__ import division # For python 2.*\n",
    "\n",
    "import numpy as np\n",
    "import matplotlib.pyplot as plt\n",
    "import mltools as ml\n",
    "\n",
    "np.random.seed(0)\n",
    "%matplotlib inline\n",
    "# Data Loading\n",
    "X = np.genfromtxt('uci-cs178-f21/X_train.txt', delimiter=',')\n",
    "Y = np.genfromtxt('uci-cs178-f21/Y_train.txt', delimiter=None)\n",
    "\n",
    "# The test data\n",
    "Xte = np.genfromtxt('uci-cs178-f21/X_test.txt', delimiter=',')\n",
    "\n",
    "print(\"Shape of X: {}, Xte: {}, Y: {}\".format(X.shape, Xte.shape, Y.shape))\n",
    "\n",
    "\n",
    "hello"
   ]
  },
  {
   "cell_type": "code",
   "execution_count": null,
   "id": "4aba61c2",
   "metadata": {},
   "outputs": [],
   "source": []
  }
 ],
 "metadata": {
  "kernelspec": {
   "display_name": "Python 3",
   "language": "python",
   "name": "python3"
  },
  "language_info": {
   "codemirror_mode": {
    "name": "ipython",
    "version": 3
   },
   "file_extension": ".py",
   "mimetype": "text/x-python",
   "name": "python",
   "nbconvert_exporter": "python",
   "pygments_lexer": "ipython3",
   "version": "3.8.8"
  }
 },
 "nbformat": 4,
 "nbformat_minor": 5
}

{
 "cells": [
  {
   "cell_type": "markdown",
   "id": "e3f790f4",
   "metadata": {},
   "source": [
    "# Final Project"
   ]
  },
  {
   "cell_type": "code",
   "execution_count": 1,
   "id": "f600d000",
   "metadata": {},
   "outputs": [
    {
     "name": "stdout",
     "output_type": "stream",
     "text": [
      "Shape of X: (7423, 107), Xte: (7422, 107), Y: (7423,)\n"
     ]
    }
   ],
   "source": [
    "# Import all required libraries\n",
    "from __future__ import division # For python 2.*\n",
    "\n",
    "import numpy as np\n",
    "import matplotlib.pyplot as plt\n",
    "import mltools as ml\n",
    "from sklearn import *\n",
    "from sklearn.metrics import roc_curve, auc\n",
    "\n",
    "np.random.seed(0)\n",
    "%matplotlib inline\n",
    "# Data Loading\n",
    "X = np.genfromtxt('uci-cs178-f21/X_train.txt', delimiter=',')\n",
    "Y = np.genfromtxt('uci-cs178-f21/Y_train.txt', delimiter=None)\n",
    "\n",
    "# The test data\n",
    "Xte = np.genfromtxt('uci-cs178-f21/X_test.txt', delimiter=',')\n",
    "\n",
    "print(\"Shape of X: {}, Xte: {}, Y: {}\".format(X.shape, Xte.shape, Y.shape))\n",
    "\n",
    "Xtr,Xva,Ytr,Yva = ml.splitData(X,Y,0.5)"
   ]
  },
  {
   "cell_type": "markdown",
   "id": "bd6ba449",
   "metadata": {},
   "source": [
    "## kNN"
   ]
  },
  {
   "cell_type": "code",
   "execution_count": 2,
   "id": "d2889424",
   "metadata": {},
   "outputs": [
    {
     "name": "stdout",
     "output_type": "stream",
     "text": [
      "K = 1\n",
      "Training AUC:  1.0\n",
      "Validation AUC:  0.522992028539224\n",
      "K = 5\n",
      "Training AUC:  0.7668977610553699\n",
      "Validation AUC:  0.5408078366663955\n",
      "K = 10\n",
      "Training AUC:  0.6970892558528429\n",
      "Validation AUC:  0.5526937088208976\n",
      "K = 20\n",
      "Training AUC:  0.6608146948160534\n",
      "Validation AUC:  0.559986404359901\n",
      "K = 50\n",
      "Training AUC:  0.6191279960981049\n",
      "Validation AUC:  0.5740163496287345\n",
      "K = 100\n",
      "Training AUC:  0.6054523469435155\n",
      "Validation AUC:  0.5781037568123453\n",
      "K = 200\n",
      "Training AUC:  0.5966256154775177\n",
      "Validation AUC:  0.5750791626480123\n",
      "K = 300\n",
      "Training AUC:  0.5831237225938313\n",
      "Validation AUC:  0.5687782516239237\n",
      "K = 500\n",
      "Training AUC:  0.5691075285674472\n",
      "Validation AUC:  0.5626514984254622\n"
     ]
    }
   ],
   "source": [
    "K = [1, 5, 10, 20, 50, 100, 200, 300, 500]\n",
    "for k in K:\n",
    "    knn = neighbors.KNeighborsClassifier(n_neighbors=k, n_jobs=-1)\n",
    "    knn.fit(Xtr, Ytr)\n",
    "    \n",
    "    knn_tr_pred = knn.predict_proba(Xtr)\n",
    "    knn_va_pred = knn.predict_proba(Xva)\n",
    "    \n",
    "    fpr_tr, tpr_tr, thresholds = roc_curve(Ytr, knn_tr_pred[:,1])\n",
    "    knn_tr_auc = metrics.auc(fpr_tr, tpr_tr)\n",
    "    \n",
    "    fpr_va, tpr_va, thresholds = roc_curve(Yva, knn_va_pred[:,1])\n",
    "    knn_va_auc = metrics.auc(fpr_va, tpr_va)\n",
    "    \n",
    "    print (\"K =\", str(k))\n",
    "    print (\"Training AUC: \", str(knn_tr_auc))\n",
    "    print (\"Validation AUC: \", str(knn_va_auc))"
   ]
  },
  {
   "cell_type": "code",
   "execution_count": 3,
   "id": "cb9b5324",
   "metadata": {},
   "outputs": [
    {
     "name": "stdout",
     "output_type": "stream",
     "text": [
      "K =  1\n",
      "1.0\n",
      "0.522992028539224\n",
      "K =  5\n",
      "0.7668977610553698\n",
      "0.5408078366663955\n",
      "K =  10\n",
      "0.6970892558528428\n",
      "0.5526937088208979\n",
      "K =  20\n",
      "0.6608146948160535\n",
      "0.559986404359901\n",
      "K =  50\n",
      "0.6191279960981048\n",
      "0.5740163496287345\n",
      "K =  100\n",
      "0.6054523469435155\n",
      "0.5781037568123453\n",
      "K =  200\n",
      "0.5966256154775176\n",
      "0.5750791626480124\n",
      "K =  300\n",
      "0.5831237225938313\n",
      "0.5687782516239236\n",
      "K =  500\n",
      "0.5691075285674471\n",
      "0.5626514984254621\n"
     ]
    }
   ],
   "source": [
    "K = [1, 5, 10, 20, 50, 100, 200, 300, 500]\n",
    "\n",
    "for k in K:\n",
    "    knn = ml.knn.knnClassify(Xtr, Ytr, K=k)\n",
    "    \n",
    "    print(\"K = \", str(k))\n",
    "    print(knn.auc(Xtr, Ytr))\n",
    "    print(knn.auc(Xva, Yva))"
   ]
  },
  {
   "cell_type": "code",
   "execution_count": 4,
   "id": "bade61f3",
   "metadata": {},
   "outputs": [
    {
     "name": "stdout",
     "output_type": "stream",
     "text": [
      "[[0.526 0.474]\n",
      " [0.578 0.422]\n",
      " [0.402 0.598]\n",
      " ...\n",
      " [0.42  0.58 ]\n",
      " [0.526 0.474]\n",
      " [0.496 0.504]]\n"
     ]
    }
   ],
   "source": [
    "# Write into the file\n",
    "\n",
    "Yhat = knn.predictSoft(Xte)\n",
    "print(Yhat)\n",
    "#Yte = np.vstack((np.arange(len(Yhat)), Yhat[:,1])).T\n",
    "#np.savetxt('f1_knn.txt',Yte,'%d, %.2f',header='Id,Predicted',delimiter=',')"
   ]
  },
  {
   "cell_type": "markdown",
   "id": "cde287c2",
   "metadata": {},
   "source": [
    "# Neural Network"
   ]
  },
  {
   "cell_type": "code",
   "execution_count": 5,
   "id": "779289cc",
   "metadata": {},
   "outputs": [],
   "source": [
    "X = np.genfromtxt('uci-cs178-f21/X_train.txt', delimiter=',')\n",
    "Y = np.genfromtxt('uci-cs178-f21/Y_train.txt', delimiter=None)\n",
    "\n",
    "X,Y = ml.shuffleData(X,Y)\n",
    "Xtr, Xva, Ytr, Yva = ml.splitData(X, Y, 0.80)\n",
    "\n",
    "Xte = np.genfromtxt('uci-cs178-f21/X_test.txt', delimiter=',')\n",
    "\n",
    "Xtr, param = ml.transforms.rescale(Xtr)\n",
    "Xva, _ = ml.transforms.rescale(Xva,param)\n",
    "Xte, _ = ml.transforms.rescale(Xte,param)"
   ]
  },
  {
   "cell_type": "code",
   "execution_count": 11,
   "id": "dbb951a8",
   "metadata": {},
   "outputs": [
    {
     "name": "stderr",
     "output_type": "stream",
     "text": [
      "/Users/yuhaos/opt/anaconda3/lib/python3.8/site-packages/sklearn/neural_network/_multilayer_perceptron.py:549: ConvergenceWarning: lbfgs failed to converge (status=1):\n",
      "STOP: TOTAL NO. of ITERATIONS REACHED LIMIT.\n",
      "\n",
      "Increase the number of iterations (max_iter) or scale the data as shown in:\n",
      "    https://scikit-learn.org/stable/modules/preprocessing.html\n",
      "  self.n_iter_ = _check_optimize_result(\"lbfgs\", opt_res, self.max_iter)\n"
     ]
    },
    {
     "data": {
      "text/plain": [
       "MLPClassifier(hidden_layer_sizes=2, max_iter=256, random_state=1,\n",
       "              solver='lbfgs')"
      ]
     },
     "execution_count": 11,
     "metadata": {},
     "output_type": "execute_result"
    }
   ],
   "source": [
    "from sklearn.neural_network import MLPClassifier\n",
    "nnet = MLPClassifier(solver='lbfgs', hidden_layer_sizes=2, max_iter=256, random_state=1)\n",
    "nnet.fit(Xtr, Ytr)"
   ]
  },
  {
   "cell_type": "code",
   "execution_count": 12,
   "id": "2213947e",
   "metadata": {},
   "outputs": [
    {
     "name": "stdout",
     "output_type": "stream",
     "text": [
      "Training:  0.7341658908950222\n",
      "Validation:  0.6876823082951181\n"
     ]
    }
   ],
   "source": [
    "pred_soft = nnet.predict_proba(Xtr)\n",
    "false_positive_rate, true_positive_rate, thresholds = roc_curve(Ytr, pred_soft[:,1])\n",
    "roc_auc_tr = auc(false_positive_rate, true_positive_rate)\n",
    "\n",
    "pred_soft = nnet.predict_proba(Xva)\n",
    "false_positive_rate, true_positive_rate, thresholds = roc_curve(Yva, pred_soft[:,1])\n",
    "roc_auc_va = auc(false_positive_rate, true_positive_rate)\n",
    "\n",
    "print(\"Training: \", str(roc_auc_tr))\n",
    "print (\"Validation: \", str(roc_auc_va))"
   ]
  },
  {
   "cell_type": "code",
   "execution_count": 13,
   "id": "e9648c96",
   "metadata": {},
   "outputs": [
    {
     "name": "stderr",
     "output_type": "stream",
     "text": [
      "/Users/yuhaos/opt/anaconda3/lib/python3.8/site-packages/sklearn/neural_network/_multilayer_perceptron.py:549: ConvergenceWarning: lbfgs failed to converge (status=1):\n",
      "STOP: TOTAL NO. of ITERATIONS REACHED LIMIT.\n",
      "\n",
      "Increase the number of iterations (max_iter) or scale the data as shown in:\n",
      "    https://scikit-learn.org/stable/modules/preprocessing.html\n",
      "  self.n_iter_ = _check_optimize_result(\"lbfgs\", opt_res, self.max_iter)\n"
     ]
    },
    {
     "name": "stdout",
     "output_type": "stream",
     "text": [
      "Layers= 2\n",
      "Training:  0.720821370565834\n",
      "Validation:  0.6639504847042433\n"
     ]
    },
    {
     "name": "stderr",
     "output_type": "stream",
     "text": [
      "/Users/yuhaos/opt/anaconda3/lib/python3.8/site-packages/sklearn/neural_network/_multilayer_perceptron.py:549: ConvergenceWarning: lbfgs failed to converge (status=1):\n",
      "STOP: TOTAL NO. of ITERATIONS REACHED LIMIT.\n",
      "\n",
      "Increase the number of iterations (max_iter) or scale the data as shown in:\n",
      "    https://scikit-learn.org/stable/modules/preprocessing.html\n",
      "  self.n_iter_ = _check_optimize_result(\"lbfgs\", opt_res, self.max_iter)\n"
     ]
    },
    {
     "name": "stdout",
     "output_type": "stream",
     "text": [
      "Layers= 3\n",
      "Training:  0.7109784026308729\n",
      "Validation:  0.6136306742323097\n"
     ]
    },
    {
     "name": "stderr",
     "output_type": "stream",
     "text": [
      "/Users/yuhaos/opt/anaconda3/lib/python3.8/site-packages/sklearn/neural_network/_multilayer_perceptron.py:549: ConvergenceWarning: lbfgs failed to converge (status=1):\n",
      "STOP: TOTAL NO. of ITERATIONS REACHED LIMIT.\n",
      "\n",
      "Increase the number of iterations (max_iter) or scale the data as shown in:\n",
      "    https://scikit-learn.org/stable/modules/preprocessing.html\n",
      "  self.n_iter_ = _check_optimize_result(\"lbfgs\", opt_res, self.max_iter)\n"
     ]
    },
    {
     "name": "stdout",
     "output_type": "stream",
     "text": [
      "Layers= 4\n",
      "Training:  0.7660419081202727\n",
      "Validation:  0.672568859929181\n"
     ]
    },
    {
     "name": "stderr",
     "output_type": "stream",
     "text": [
      "/Users/yuhaos/opt/anaconda3/lib/python3.8/site-packages/sklearn/neural_network/_multilayer_perceptron.py:549: ConvergenceWarning: lbfgs failed to converge (status=1):\n",
      "STOP: TOTAL NO. of ITERATIONS REACHED LIMIT.\n",
      "\n",
      "Increase the number of iterations (max_iter) or scale the data as shown in:\n",
      "    https://scikit-learn.org/stable/modules/preprocessing.html\n",
      "  self.n_iter_ = _check_optimize_result(\"lbfgs\", opt_res, self.max_iter)\n"
     ]
    },
    {
     "name": "stdout",
     "output_type": "stream",
     "text": [
      "Layers= 5\n",
      "Training:  0.7784284993825028\n",
      "Validation:  0.6534999564636907\n"
     ]
    },
    {
     "name": "stderr",
     "output_type": "stream",
     "text": [
      "/Users/yuhaos/opt/anaconda3/lib/python3.8/site-packages/sklearn/neural_network/_multilayer_perceptron.py:549: ConvergenceWarning: lbfgs failed to converge (status=1):\n",
      "STOP: TOTAL NO. of ITERATIONS REACHED LIMIT.\n",
      "\n",
      "Increase the number of iterations (max_iter) or scale the data as shown in:\n",
      "    https://scikit-learn.org/stable/modules/preprocessing.html\n",
      "  self.n_iter_ = _check_optimize_result(\"lbfgs\", opt_res, self.max_iter)\n"
     ]
    },
    {
     "name": "stdout",
     "output_type": "stream",
     "text": [
      "Layers= 6\n",
      "Training:  0.7807627920064035\n",
      "Validation:  0.6569465809485111\n"
     ]
    },
    {
     "name": "stderr",
     "output_type": "stream",
     "text": [
      "/Users/yuhaos/opt/anaconda3/lib/python3.8/site-packages/sklearn/neural_network/_multilayer_perceptron.py:549: ConvergenceWarning: lbfgs failed to converge (status=1):\n",
      "STOP: TOTAL NO. of ITERATIONS REACHED LIMIT.\n",
      "\n",
      "Increase the number of iterations (max_iter) or scale the data as shown in:\n",
      "    https://scikit-learn.org/stable/modules/preprocessing.html\n",
      "  self.n_iter_ = _check_optimize_result(\"lbfgs\", opt_res, self.max_iter)\n"
     ]
    },
    {
     "name": "stdout",
     "output_type": "stream",
     "text": [
      "Layers= 7\n",
      "Training:  0.8012598418049867\n",
      "Validation:  0.6211234544610205\n"
     ]
    },
    {
     "name": "stderr",
     "output_type": "stream",
     "text": [
      "/Users/yuhaos/opt/anaconda3/lib/python3.8/site-packages/sklearn/neural_network/_multilayer_perceptron.py:549: ConvergenceWarning: lbfgs failed to converge (status=1):\n",
      "STOP: TOTAL NO. of ITERATIONS REACHED LIMIT.\n",
      "\n",
      "Increase the number of iterations (max_iter) or scale the data as shown in:\n",
      "    https://scikit-learn.org/stable/modules/preprocessing.html\n",
      "  self.n_iter_ = _check_optimize_result(\"lbfgs\", opt_res, self.max_iter)\n"
     ]
    },
    {
     "name": "stdout",
     "output_type": "stream",
     "text": [
      "Layers= 8\n",
      "Training:  0.8058730593653933\n",
      "Validation:  0.6386332138503512\n"
     ]
    },
    {
     "name": "stderr",
     "output_type": "stream",
     "text": [
      "/Users/yuhaos/opt/anaconda3/lib/python3.8/site-packages/sklearn/neural_network/_multilayer_perceptron.py:549: ConvergenceWarning: lbfgs failed to converge (status=1):\n",
      "STOP: TOTAL NO. of ITERATIONS REACHED LIMIT.\n",
      "\n",
      "Increase the number of iterations (max_iter) or scale the data as shown in:\n",
      "    https://scikit-learn.org/stable/modules/preprocessing.html\n",
      "  self.n_iter_ = _check_optimize_result(\"lbfgs\", opt_res, self.max_iter)\n"
     ]
    },
    {
     "name": "stdout",
     "output_type": "stream",
     "text": [
      "Layers= 9\n",
      "Training:  0.8217902483660575\n",
      "Validation:  0.6336909357404075\n",
      "Layers= 10\n",
      "Training:  0.8226207636769817\n",
      "Validation:  0.6290915060660591\n",
      "Best # Layers:  4\n",
      "AUC:  0.672568859929181\n"
     ]
    },
    {
     "name": "stderr",
     "output_type": "stream",
     "text": [
      "/Users/yuhaos/opt/anaconda3/lib/python3.8/site-packages/sklearn/neural_network/_multilayer_perceptron.py:549: ConvergenceWarning: lbfgs failed to converge (status=1):\n",
      "STOP: TOTAL NO. of ITERATIONS REACHED LIMIT.\n",
      "\n",
      "Increase the number of iterations (max_iter) or scale the data as shown in:\n",
      "    https://scikit-learn.org/stable/modules/preprocessing.html\n",
      "  self.n_iter_ = _check_optimize_result(\"lbfgs\", opt_res, self.max_iter)\n"
     ]
    }
   ],
   "source": [
    "layers = [2,3,4,5,6,7,8,9,10]\n",
    "max = 0\n",
    "currL = 0\n",
    "for l in layers:\n",
    "    nnet = MLPClassifier(solver='lbfgs', hidden_layer_sizes=l, random_state=1)\n",
    "    nnet.fit(Xtr, Ytr)\n",
    "    \n",
    "    pred_soft = nnet.predict_proba(Xtr)\n",
    "    false_positive_rate, true_positive_rate, thresholds = roc_curve(Ytr, pred_soft[:,1])\n",
    "    roc_auc_tr = auc(false_positive_rate, true_positive_rate)\n",
    "\n",
    "    pred_soft = nnet.predict_proba(Xva)\n",
    "    false_positive_rate, true_positive_rate, thresholds = roc_curve(Yva, pred_soft[:,1])\n",
    "    roc_auc_va = auc(false_positive_rate, true_positive_rate)\n",
    "\n",
    "    if roc_auc_va > max:\n",
    "        max = roc_auc_va\n",
    "        currL = l\n",
    "    \n",
    "    print(\"Layers=\", str(l))\n",
    "    print(\"Training: \", str(roc_auc_tr))\n",
    "    print(\"Validation: \", str(roc_auc_va))\n",
    "\n",
    "print(\"Best # Layers: \", currL)\n",
    "print(\"AUC: \", max)"
   ]
  },
  {
   "cell_type": "code",
   "execution_count": null,
   "id": "f92744ce",
   "metadata": {},
   "outputs": [],
   "source": []
  }
 ],
 "metadata": {
  "kernelspec": {
   "display_name": "Python 3",
   "language": "python",
   "name": "python3"
  },
  "language_info": {
   "codemirror_mode": {
    "name": "ipython",
    "version": 3
   },
   "file_extension": ".py",
   "mimetype": "text/x-python",
   "name": "python",
   "nbconvert_exporter": "python",
   "pygments_lexer": "ipython3",
   "version": "3.8.8"
  }
 },
 "nbformat": 4,
 "nbformat_minor": 5
}

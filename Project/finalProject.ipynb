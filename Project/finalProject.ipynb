{
 "cells": [
  {
   "cell_type": "markdown",
   "id": "e3f790f4",
   "metadata": {},
   "source": [
    "# Final Project"
   ]
  },
  {
   "cell_type": "code",
<<<<<<< HEAD
   "execution_count": 5,
=======
   "execution_count": 2,
>>>>>>> a75d23443f8447feceacf9f1a9a9741c61440f2a
   "id": "f600d000",
   "metadata": {},
   "outputs": [
    {
     "name": "stdout",
     "output_type": "stream",
     "text": [
      "Shape of X: (7423, 107), Xte: (7422, 107), Y: (7423,)\n",
      "1.0\n"
     ]
    }
   ],
   "source": [
    "# Import all required libraries\n",
    "from __future__ import division # For python 2.*\n",
    "\n",
    "import numpy as np\n",
    "import matplotlib.pyplot as plt\n",
    "import mltools as ml\n",
    "\n",
    "np.random.seed(0)\n",
    "%matplotlib inline\n",
    "# Data Loading\n",
    "X = np.genfromtxt('uci-cs178-f21/X_train.txt', delimiter=',')\n",
    "Y = np.genfromtxt('uci-cs178-f21/Y_train.txt', delimiter=None)\n",
    "\n",
    "# The test data\n",
    "Xte = np.genfromtxt('uci-cs178-f21/X_test.txt', delimiter=',')\n",
    "\n",
<<<<<<< HEAD
    "print(\"Shape of X: {}, Xte: {}, Y: {}\".format(X.shape, Xte.shape, Y.shape))\n",
    "\n",
    "Xtr, Xva, Ytr, Yva = ml.splitData(X, Y, 0.75)\n",
    "\n",
    "Xtr, param = ml.transforms.rescale(Xtr)\n",
    "Xva, _ = ml.transforms.rescale(Xva,param)\n",
    "Xte, _ = ml.transforms.rescale(Xte,param)"
=======
    "print(\"Shape of X: {}, Xte: {}, Y: {}\".format(X.shape, Xte.shape, Y.shape))"
>>>>>>> a75d23443f8447feceacf9f1a9a9741c61440f2a
   ]
  },
  {
   "cell_type": "code",
<<<<<<< HEAD
   "execution_count": 9,
   "id": "4aba61c2",
=======
   "execution_count": 5,
   "id": "cb9b5324",
>>>>>>> a75d23443f8447feceacf9f1a9a9741c61440f2a
   "metadata": {},
   "outputs": [
    {
     "name": "stdout",
     "output_type": "stream",
     "text": [
<<<<<<< HEAD
      "0.7828926954713388\n"
=======
      "1.0\n",
      "0.522992028539224\n"
>>>>>>> a75d23443f8447feceacf9f1a9a9741c61440f2a
     ]
    }
   ],
   "source": [
<<<<<<< HEAD
    "K = [1, 2, 5, 10, 50, 100, 200]\n",
    "train_err = [None] * len(K)\n",
    "val_err = [None] * len(K)\n",
    "\n",
    "for k in K:\n",
    "    knn_learner = ml.knn.knnClassify(Xtr, Ytr, k);\n",
    "    knn_tr_pred = knn_learner.predict(Xtr);\n",
    "    knn_va_pred = knn_learner.predict(Xva);\n",
    "    \n",
    "    tr_roc = learner.roc(Xtr,Ytr)\n",
    "    va_roc = learner.roc(Xva,Yva)\n",
    "    \n",
    "    print(.auc(Xtr, Ytr))\n"
=======
    "Xtr,Xva,Ytr,Yva = ml.splitData(X,Y,0.5)\n",
    "\n",
    "knn = ml.knn.knnClassify(Xtr, Ytr)\n",
    "\n",
    "print(knn.auc(Xtr, Ytr))\n",
    "print(knn.auc(Xva, Yva))"
   ]
  },
  {
   "cell_type": "code",
   "execution_count": 7,
   "id": "bade61f3",
   "metadata": {},
   "outputs": [
    {
     "name": "stdout",
     "output_type": "stream",
     "text": [
      "[[1. 0.]\n",
      " [0. 1.]\n",
      " [0. 1.]\n",
      " ...\n",
      " [0. 1.]\n",
      " [0. 1.]\n",
      " [1. 0.]]\n"
     ]
    }
   ],
   "source": [
    "Yhat = knn.predictSoft(Xte)\n",
    "print(Yhat)\n",
    "#Yte = np.vstack((np.arange(len(Yhat)), Yhat[:,1])).T\n"
>>>>>>> a75d23443f8447feceacf9f1a9a9741c61440f2a
   ]
  },
  {
   "cell_type": "code",
   "execution_count": 9,
   "id": "efef539a",
   "metadata": {},
   "outputs": [],
   "source": [
    "Yte = np.vstack((np.arange(len(Yhat)), Yhat[:,1])).T\n",
    "np.savetxt('f1_knn.txt',Yte,'%d, %.2f',header='Id,Predicted',delimiter=',')"
   ]
  },
  {
   "cell_type": "code",
   "execution_count": null,
   "id": "779289cc",
   "metadata": {},
   "outputs": [],
   "source": []
  },
  {
   "cell_type": "code",
   "execution_count": null,
   "id": "dbb951a8",
   "metadata": {},
   "outputs": [],
   "source": []
  }
 ],
 "metadata": {
  "kernelspec": {
   "display_name": "Python 3",
   "language": "python",
   "name": "python3"
  },
  "language_info": {
   "codemirror_mode": {
    "name": "ipython",
    "version": 3
   },
   "file_extension": ".py",
   "mimetype": "text/x-python",
   "name": "python",
   "nbconvert_exporter": "python",
   "pygments_lexer": "ipython3",
   "version": "3.8.8"
  }
 },
 "nbformat": 4,
 "nbformat_minor": 5
}

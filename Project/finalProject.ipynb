{
 "cells": [
  {
   "cell_type": "markdown",
   "id": "e3f790f4",
   "metadata": {},
   "source": [
    "# Final Project"
   ]
  },
  {
   "cell_type": "code",
   "execution_count": 5,
   "id": "f600d000",
   "metadata": {},
   "outputs": [
    {
     "name": "stdout",
     "output_type": "stream",
     "text": [
      "Shape of X: (7423, 107), Xte: (7422, 107), Y: (7423,)\n"
     ]
    }
   ],
   "source": [
    "# Import all required libraries\n",
    "from __future__ import division # For python 2.*\n",
    "\n",
    "import numpy as np\n",
    "import matplotlib.pyplot as plt\n",
    "import mltools as ml\n",
    "\n",
    "np.random.seed(0)\n",
    "%matplotlib inline\n",
    "# Data Loading\n",
    "X = np.genfromtxt('uci-cs178-f21/X_train.txt', delimiter=',')\n",
    "Y = np.genfromtxt('uci-cs178-f21/Y_train.txt', delimiter=None)\n",
    "\n",
    "# The test data\n",
    "Xte = np.genfromtxt('uci-cs178-f21/X_test.txt', delimiter=',')\n",
    "\n",
    "print(\"Shape of X: {}, Xte: {}, Y: {}\".format(X.shape, Xte.shape, Y.shape))\n",
    "\n",
    "Xtr, Xva, Ytr, Yva = ml.splitData(X, Y, 0.75)\n",
    "\n",
    "Xtr, param = ml.transforms.rescale(Xtr)\n",
    "Xva, _ = ml.transforms.rescale(Xva,param)\n",
    "Xte, _ = ml.transforms.rescale(Xte,param)"
   ]
  },
  {
   "cell_type": "code",
   "execution_count": 9,
   "id": "4aba61c2",
   "metadata": {},
   "outputs": [
    {
     "name": "stdout",
     "output_type": "stream",
     "text": [
      "0.7828926954713388\n"
     ]
    }
   ],
   "source": [
    "K = [1, 2, 5, 10, 50, 100, 200]\n",
    "train_err = [None] * len(K)\n",
    "val_err = [None] * len(K)\n",
    "\n",
    "for k in K:\n",
    "    knn_learner = ml.knn.knnClassify(Xtr, Ytr, k);\n",
    "    knn_tr_pred = knn_learner.predict(Xtr);\n",
    "    knn_va_pred = knn_learner.predict(Xva);\n",
    "    \n",
    "    tr_roc = learner.roc(Xtr,Ytr)\n",
    "    va_roc = learner.roc(Xva,Yva)\n",
    "    \n",
    "    print(.auc(Xtr, Ytr))\n"
   ]
  },
  {
   "cell_type": "code",
   "execution_count": null,
   "id": "efef539a",
   "metadata": {},
   "outputs": [],
   "source": []
  },
  {
   "cell_type": "code",
   "execution_count": null,
   "id": "779289cc",
   "metadata": {},
   "outputs": [],
   "source": []
  },
  {
   "cell_type": "code",
   "execution_count": null,
   "id": "dbb951a8",
   "metadata": {},
   "outputs": [],
   "source": []
  }
 ],
 "metadata": {
  "kernelspec": {
   "display_name": "Python 3",
   "language": "python",
   "name": "python3"
  },
  "language_info": {
   "codemirror_mode": {
    "name": "ipython",
    "version": 3
   },
   "file_extension": ".py",
   "mimetype": "text/x-python",
   "name": "python",
   "nbconvert_exporter": "python",
   "pygments_lexer": "ipython3",
   "version": "3.8.8"
  }
 },
 "nbformat": 4,
 "nbformat_minor": 5
}
